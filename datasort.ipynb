{
 "cells": [
  {
   "cell_type": "code",
   "execution_count": 109,
   "metadata": {},
   "outputs": [],
   "source": [
    "import pandas as pd"
   ]
  },
  {
   "cell_type": "code",
   "execution_count": 110,
   "metadata": {},
   "outputs": [
    {
     "output_type": "execute_result",
     "data": {
      "text/plain": "   Rank           Player           Tier      LP  Wins  Top4  Played  \\\n0   242  ArtourBabaevsky  Grandmaster 1  507 LP    17    58      94   \n1   227    EGN Rodrigues  Grandmaster 1  538 LP    15    49      83   \n2  5052        Nyxer TFT      Diamond 2   75 LP    14    60     124   \n3  3271          FTW AïM      Diamond 1   75 LP    21    78     156   \n4   103    Kuzma is High   Challenger 1  728 LP    30   143     264   \n5   848           Kilnae       Master 1  173 LP    14    66     124   \n6  6633          Jitonce      Diamond 2   12 LP    10    35      58   \n7   350           Batata  Grandmaster 1  394 LP    21    81     153   \n8   591    EGN Renygp xD  Grandmaster 1  254 LP    41   158     331   \n9    99        Drunkiris   Challenger 1  746 LP    51   182     351   \n\n   Win Rate %  Top4 Rate %  \n0        18.1         61.7  \n1        18.1         59.0  \n2        11.3         48.4  \n3        13.5         50.0  \n4        11.4         54.2  \n5        11.3         53.2  \n6        17.2         60.3  \n7        13.7         52.9  \n8        12.4         47.7  \n9        14.5         51.9  ",
      "text/html": "<div>\n<style scoped>\n    .dataframe tbody tr th:only-of-type {\n        vertical-align: middle;\n    }\n\n    .dataframe tbody tr th {\n        vertical-align: top;\n    }\n\n    .dataframe thead th {\n        text-align: right;\n    }\n</style>\n<table border=\"1\" class=\"dataframe\">\n  <thead>\n    <tr style=\"text-align: right;\">\n      <th></th>\n      <th>Rank</th>\n      <th>Player</th>\n      <th>Tier</th>\n      <th>LP</th>\n      <th>Wins</th>\n      <th>Top4</th>\n      <th>Played</th>\n      <th>Win Rate %</th>\n      <th>Top4 Rate %</th>\n    </tr>\n  </thead>\n  <tbody>\n    <tr>\n      <th>0</th>\n      <td>242</td>\n      <td>ArtourBabaevsky</td>\n      <td>Grandmaster 1</td>\n      <td>507 LP</td>\n      <td>17</td>\n      <td>58</td>\n      <td>94</td>\n      <td>18.1</td>\n      <td>61.7</td>\n    </tr>\n    <tr>\n      <th>1</th>\n      <td>227</td>\n      <td>EGN Rodrigues</td>\n      <td>Grandmaster 1</td>\n      <td>538 LP</td>\n      <td>15</td>\n      <td>49</td>\n      <td>83</td>\n      <td>18.1</td>\n      <td>59.0</td>\n    </tr>\n    <tr>\n      <th>2</th>\n      <td>5052</td>\n      <td>Nyxer TFT</td>\n      <td>Diamond 2</td>\n      <td>75 LP</td>\n      <td>14</td>\n      <td>60</td>\n      <td>124</td>\n      <td>11.3</td>\n      <td>48.4</td>\n    </tr>\n    <tr>\n      <th>3</th>\n      <td>3271</td>\n      <td>FTW AïM</td>\n      <td>Diamond 1</td>\n      <td>75 LP</td>\n      <td>21</td>\n      <td>78</td>\n      <td>156</td>\n      <td>13.5</td>\n      <td>50.0</td>\n    </tr>\n    <tr>\n      <th>4</th>\n      <td>103</td>\n      <td>Kuzma is High</td>\n      <td>Challenger 1</td>\n      <td>728 LP</td>\n      <td>30</td>\n      <td>143</td>\n      <td>264</td>\n      <td>11.4</td>\n      <td>54.2</td>\n    </tr>\n    <tr>\n      <th>5</th>\n      <td>848</td>\n      <td>Kilnae</td>\n      <td>Master 1</td>\n      <td>173 LP</td>\n      <td>14</td>\n      <td>66</td>\n      <td>124</td>\n      <td>11.3</td>\n      <td>53.2</td>\n    </tr>\n    <tr>\n      <th>6</th>\n      <td>6633</td>\n      <td>Jitonce</td>\n      <td>Diamond 2</td>\n      <td>12 LP</td>\n      <td>10</td>\n      <td>35</td>\n      <td>58</td>\n      <td>17.2</td>\n      <td>60.3</td>\n    </tr>\n    <tr>\n      <th>7</th>\n      <td>350</td>\n      <td>Batata</td>\n      <td>Grandmaster 1</td>\n      <td>394 LP</td>\n      <td>21</td>\n      <td>81</td>\n      <td>153</td>\n      <td>13.7</td>\n      <td>52.9</td>\n    </tr>\n    <tr>\n      <th>8</th>\n      <td>591</td>\n      <td>EGN Renygp xD</td>\n      <td>Grandmaster 1</td>\n      <td>254 LP</td>\n      <td>41</td>\n      <td>158</td>\n      <td>331</td>\n      <td>12.4</td>\n      <td>47.7</td>\n    </tr>\n    <tr>\n      <th>9</th>\n      <td>99</td>\n      <td>Drunkiris</td>\n      <td>Challenger 1</td>\n      <td>746 LP</td>\n      <td>51</td>\n      <td>182</td>\n      <td>351</td>\n      <td>14.5</td>\n      <td>51.9</td>\n    </tr>\n  </tbody>\n</table>\n</div>"
     },
     "metadata": {},
     "execution_count": 110
    }
   ],
   "source": [
    "data = pd.read_csv('listarank.csv')\n",
    "data"
   ]
  },
  {
   "cell_type": "code",
   "execution_count": 102,
   "metadata": {},
   "outputs": [],
   "source": [
    "#data.sort_values('Rank', ascending=True, inplace=True)"
   ]
  },
  {
   "cell_type": "code",
   "execution_count": 111,
   "metadata": {},
   "outputs": [],
   "source": [
    "#data['Rank'] = data['Rank'].replace(',','', regex=True)\n",
    "#data"
   ]
  },
  {
   "cell_type": "code",
   "execution_count": 118,
   "metadata": {},
   "outputs": [
    {
     "output_type": "execute_result",
     "data": {
      "text/plain": "Rank             int64\nPlayer          object\nTier            object\nLP              object\nWins             int64\nTop4             int64\nPlayed           int64\nWin Rate %     float64\nTop4 Rate %    float64\ndtype: object"
     },
     "metadata": {},
     "execution_count": 118
    }
   ],
   "source": [
    "data['Rank'].astype(str).astype(int)\n",
    "data['Rank'] = pd.to_numeric(data['Rank'])\n",
    "#data['Rank'] = pd.to_numeric(data['Rank'], errors='coerce')\n",
    "data.dtypes"
   ]
  },
  {
   "cell_type": "code",
   "execution_count": 125,
   "metadata": {},
   "outputs": [
    {
     "output_type": "execute_result",
     "data": {
      "text/plain": "   Rank           Player           Tier      LP  Wins  Top4  Played  \\\n9    99        Drunkiris   Challenger 1  746 LP    51   182     351   \n4   103    Kuzma is High   Challenger 1  728 LP    30   143     264   \n1   227    EGN Rodrigues  Grandmaster 1  538 LP    15    49      83   \n0   242  ArtourBabaevsky  Grandmaster 1  507 LP    17    58      94   \n7   350           Batata  Grandmaster 1  394 LP    21    81     153   \n8   591    EGN Renygp xD  Grandmaster 1  254 LP    41   158     331   \n5   848           Kilnae       Master 1  173 LP    14    66     124   \n3  3271          FTW AïM      Diamond 1   75 LP    21    78     156   \n2  5052        Nyxer TFT      Diamond 2   75 LP    14    60     124   \n6  6633          Jitonce      Diamond 2   12 LP    10    35      58   \n\n   Win Rate %  Top4 Rate %  \n9        14.5         51.9  \n4        11.4         54.2  \n1        18.1         59.0  \n0        18.1         61.7  \n7        13.7         52.9  \n8        12.4         47.7  \n5        11.3         53.2  \n3        13.5         50.0  \n2        11.3         48.4  \n6        17.2         60.3  ",
      "text/html": "<div>\n<style scoped>\n    .dataframe tbody tr th:only-of-type {\n        vertical-align: middle;\n    }\n\n    .dataframe tbody tr th {\n        vertical-align: top;\n    }\n\n    .dataframe thead th {\n        text-align: right;\n    }\n</style>\n<table border=\"1\" class=\"dataframe\">\n  <thead>\n    <tr style=\"text-align: right;\">\n      <th></th>\n      <th>Rank</th>\n      <th>Player</th>\n      <th>Tier</th>\n      <th>LP</th>\n      <th>Wins</th>\n      <th>Top4</th>\n      <th>Played</th>\n      <th>Win Rate %</th>\n      <th>Top4 Rate %</th>\n    </tr>\n  </thead>\n  <tbody>\n    <tr>\n      <th>9</th>\n      <td>99</td>\n      <td>Drunkiris</td>\n      <td>Challenger 1</td>\n      <td>746 LP</td>\n      <td>51</td>\n      <td>182</td>\n      <td>351</td>\n      <td>14.5</td>\n      <td>51.9</td>\n    </tr>\n    <tr>\n      <th>4</th>\n      <td>103</td>\n      <td>Kuzma is High</td>\n      <td>Challenger 1</td>\n      <td>728 LP</td>\n      <td>30</td>\n      <td>143</td>\n      <td>264</td>\n      <td>11.4</td>\n      <td>54.2</td>\n    </tr>\n    <tr>\n      <th>1</th>\n      <td>227</td>\n      <td>EGN Rodrigues</td>\n      <td>Grandmaster 1</td>\n      <td>538 LP</td>\n      <td>15</td>\n      <td>49</td>\n      <td>83</td>\n      <td>18.1</td>\n      <td>59.0</td>\n    </tr>\n    <tr>\n      <th>0</th>\n      <td>242</td>\n      <td>ArtourBabaevsky</td>\n      <td>Grandmaster 1</td>\n      <td>507 LP</td>\n      <td>17</td>\n      <td>58</td>\n      <td>94</td>\n      <td>18.1</td>\n      <td>61.7</td>\n    </tr>\n    <tr>\n      <th>7</th>\n      <td>350</td>\n      <td>Batata</td>\n      <td>Grandmaster 1</td>\n      <td>394 LP</td>\n      <td>21</td>\n      <td>81</td>\n      <td>153</td>\n      <td>13.7</td>\n      <td>52.9</td>\n    </tr>\n    <tr>\n      <th>8</th>\n      <td>591</td>\n      <td>EGN Renygp xD</td>\n      <td>Grandmaster 1</td>\n      <td>254 LP</td>\n      <td>41</td>\n      <td>158</td>\n      <td>331</td>\n      <td>12.4</td>\n      <td>47.7</td>\n    </tr>\n    <tr>\n      <th>5</th>\n      <td>848</td>\n      <td>Kilnae</td>\n      <td>Master 1</td>\n      <td>173 LP</td>\n      <td>14</td>\n      <td>66</td>\n      <td>124</td>\n      <td>11.3</td>\n      <td>53.2</td>\n    </tr>\n    <tr>\n      <th>3</th>\n      <td>3271</td>\n      <td>FTW AïM</td>\n      <td>Diamond 1</td>\n      <td>75 LP</td>\n      <td>21</td>\n      <td>78</td>\n      <td>156</td>\n      <td>13.5</td>\n      <td>50.0</td>\n    </tr>\n    <tr>\n      <th>2</th>\n      <td>5052</td>\n      <td>Nyxer TFT</td>\n      <td>Diamond 2</td>\n      <td>75 LP</td>\n      <td>14</td>\n      <td>60</td>\n      <td>124</td>\n      <td>11.3</td>\n      <td>48.4</td>\n    </tr>\n    <tr>\n      <th>6</th>\n      <td>6633</td>\n      <td>Jitonce</td>\n      <td>Diamond 2</td>\n      <td>12 LP</td>\n      <td>10</td>\n      <td>35</td>\n      <td>58</td>\n      <td>17.2</td>\n      <td>60.3</td>\n    </tr>\n  </tbody>\n</table>\n</div>"
     },
     "metadata": {},
     "execution_count": 125
    }
   ],
   "source": [
    "data.set_index('Rank')\n",
    "data.sort_index(inplace=True)\n",
    "data.sort_values(by ='Rank' , ascending=True, inplace=True)\n",
    "data"
   ]
  },
  {
   "cell_type": "code",
   "execution_count": null,
   "metadata": {},
   "outputs": [],
   "source": []
  }
 ],
 "metadata": {
  "language_info": {
   "codemirror_mode": {
    "name": "ipython",
    "version": 3
   },
   "file_extension": ".py",
   "mimetype": "text/x-python",
   "name": "python",
   "nbconvert_exporter": "python",
   "pygments_lexer": "ipython3",
   "version": 3
  },
  "orig_nbformat": 2,
  "kernelspec": {
   "name": "python_defaultSpec_1593913147449",
   "display_name": "Python 3.7.6 64-bit (virtualenv)"
  }
 },
 "nbformat": 4,
 "nbformat_minor": 2
}